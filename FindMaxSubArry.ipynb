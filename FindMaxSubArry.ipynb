{
 "cells": [
  {
   "cell_type": "code",
   "execution_count": 8,
   "metadata": {
    "collapsed": false
   },
   "outputs": [
    {
     "data": {
      "text/plain": [
       "3"
      ]
     },
     "execution_count": 8,
     "metadata": {},
     "output_type": "execute_result"
    }
   ],
   "source": [
    "class Solution:\n",
    "    def findLength(self, A, B):\n",
    "        \"\"\"\n",
    "        :type A: List[int]\n",
    "        :type B: List[int]\n",
    "        :rtype: int\n",
    "        \"\"\"\n",
    "        \n",
    "        mtx = [[0] * (len(A)+1) for _ in range(len(B) + 1) ]\n",
    "        \n",
    "        for i in range(len(A)-1, -1, -1):\n",
    "            for j in range(len(B)-1, -1, -1):\n",
    "                if A[i] == B[j]:\n",
    "                    mtx[i][j] = mtx[i+1][j+1] + 1\n",
    "        \n",
    "        return max(max(row) for row in mtx)\n",
    "        \n",
    "s = Solution()\n",
    "\n",
    "s.findLength([3, 2, 1, 4, 7], [1, 2, 3, 2, 1])\n",
    "        "
   ]
  }
 ],
 "metadata": {
  "kernelspec": {
   "display_name": "Python 3",
   "language": "python",
   "name": "python3"
  },
  "language_info": {
   "codemirror_mode": {
    "name": "ipython",
    "version": 3
   },
   "file_extension": ".py",
   "mimetype": "text/x-python",
   "name": "python",
   "nbconvert_exporter": "python",
   "pygments_lexer": "ipython3",
   "version": "3.5.2"
  }
 },
 "nbformat": 4,
 "nbformat_minor": 0
}
