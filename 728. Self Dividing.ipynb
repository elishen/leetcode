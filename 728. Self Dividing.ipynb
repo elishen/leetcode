{
 "cells": [
  {
   "cell_type": "code",
   "execution_count": 2,
   "metadata": {
    "collapsed": false
   },
   "outputs": [
    {
     "data": {
      "text/plain": [
       "[1, 2, 3, 4, 5, 6, 7, 8, 9, 11, 12, 15, 22]"
      ]
     },
     "execution_count": 2,
     "metadata": {},
     "output_type": "execute_result"
    }
   ],
   "source": [
    "class Solution:\n",
    "    def selfDividingNumbers(self, left, right):\n",
    "        \"\"\"\n",
    "        :type left: int\n",
    "        :type right: int\n",
    "        :rtype: List[int]\n",
    "        \"\"\"\n",
    "        \n",
    "        res = []\n",
    "        \n",
    "        def valid(x):\n",
    "            q = x\n",
    "            while q > 0:\n",
    "                q, r = divmod(q, 10)\n",
    "                if r == 0 or x % r != 0: return False\n",
    "            return True\n",
    "                \n",
    "        for x in range(left, right+1):\n",
    "            if valid(x):\n",
    "                res.append(x)\n",
    "        \n",
    "        return res\n",
    "    \n",
    "s = Solution()\n",
    "\n",
    "s.selfDividingNumbers(1, 22)"
   ]
  }
 ],
 "metadata": {
  "kernelspec": {
   "display_name": "Python 3",
   "language": "python",
   "name": "python3"
  },
  "language_info": {
   "codemirror_mode": {
    "name": "ipython",
    "version": 3
   },
   "file_extension": ".py",
   "mimetype": "text/x-python",
   "name": "python",
   "nbconvert_exporter": "python",
   "pygments_lexer": "ipython3",
   "version": "3.5.2"
  }
 },
 "nbformat": 4,
 "nbformat_minor": 0
}
