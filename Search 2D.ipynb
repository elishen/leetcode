{
 "cells": [
  {
   "cell_type": "code",
   "execution_count": 35,
   "metadata": {
    "collapsed": false
   },
   "outputs": [
    {
     "data": {
      "text/plain": [
       "True"
      ]
     },
     "execution_count": 35,
     "metadata": {},
     "output_type": "execute_result"
    }
   ],
   "source": [
    "class Solution:\n",
    "    def searchMatrix(self, matrix, target):\n",
    "        \"\"\"\n",
    "        :type matrix: List[List[int]]\n",
    "        :type target: int\n",
    "        :rtype: bool\n",
    "        \"\"\"\n",
    "        if not matrix:\n",
    "            return False\n",
    "        if not matrix[0]:\n",
    "            return False\n",
    "        \n",
    "        m = len(matrix)\n",
    "        n = len(matrix[0])\n",
    "        \n",
    "        a = 0\n",
    "        b = m-1\n",
    "        \n",
    "        while a < b - 1 and target > matrix[a][-1]:\n",
    "            mid = (a + b) // 2\n",
    "            if target <= matrix[mid][-1]:\n",
    "                b = mid\n",
    "            else:\n",
    "                a = mid\n",
    "        \n",
    "#             print(matrix[a:(b+1)])\n",
    "        \n",
    "        row = a if target <= matrix[a][-1] else b\n",
    "#         print(a, b, row, matrix[a:(b+1)])\n",
    "\n",
    "        a = 0\n",
    "        b = n-1\n",
    "#         print(matrix[row][b])\n",
    "        # Binary Search\n",
    "        while a <= b:\n",
    "            mid = (a+b)//2\n",
    "#             print(matrix[row][mid])\n",
    "            if target == matrix[row][mid]:\n",
    "                return True\n",
    "            elif target < matrix[row][mid]:\n",
    "                b = mid - 1\n",
    "            else:\n",
    "                a = mid + 1\n",
    "            \n",
    "        return False\n",
    "            \n",
    "        \n",
    "s = Solution()\n",
    "\n",
    "matrix = [\n",
    "    [1,   3,  5,  7],\n",
    "    [10, 11, 16, 20],\n",
    "    [23, 30, 34, 50],\n",
    "    [53, 55, 56, 61]\n",
    "]\n",
    "# matrix = [[1],[3],[5]]\n",
    "\n",
    "s.searchMatrix(matrix, 34)"
   ]
  }
 ],
 "metadata": {
  "kernelspec": {
   "display_name": "Python 3",
   "language": "python",
   "name": "python3"
  },
  "language_info": {
   "codemirror_mode": {
    "name": "ipython",
    "version": 3
   },
   "file_extension": ".py",
   "mimetype": "text/x-python",
   "name": "python",
   "nbconvert_exporter": "python",
   "pygments_lexer": "ipython3",
   "version": "3.5.2"
  }
 },
 "nbformat": 4,
 "nbformat_minor": 0
}
