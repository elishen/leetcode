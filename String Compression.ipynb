{
 "cells": [
  {
   "cell_type": "code",
   "execution_count": 8,
   "metadata": {
    "collapsed": true
   },
   "outputs": [],
   "source": [
    "class Solution:\n",
    "    def compress(self, chars):\n",
    "        \"\"\"\n",
    "        :type chars: List[str]\n",
    "        :rtype: int\n",
    "        \"\"\"\n",
    "        bgn = write = 0\n",
    "        \n",
    "        for read, c in enumerate(chars):\n",
    "            if read + 1 == len(chars) or chars[read+1] != c:\n",
    "                chars[write] = c\n",
    "                write += 1\n",
    "                if read > bgn:\n",
    "                    for d in str(read - bgn + 1):\n",
    "                        chars[write] = d\n",
    "                        write += 1\n",
    "                bgn = read + 1\n",
    "            print(chars, bgn, read, write)\n",
    "        return write\n",
    " \n",
    "\n",
    "s = Solution()\n",
    "\n"
   ]
  },
  {
   "cell_type": "code",
   "execution_count": 9,
   "metadata": {
    "collapsed": false
   },
   "outputs": [
    {
     "name": "stdout",
     "output_type": "stream",
     "text": [
      "['a', 'b', 'c'] 1 0 1\n",
      "['a', 'b', 'c'] 2 1 2\n",
      "['a', 'b', 'c'] 3 2 3\n"
     ]
    },
    {
     "data": {
      "text/plain": [
       "3"
      ]
     },
     "execution_count": 9,
     "metadata": {},
     "output_type": "execute_result"
    }
   ],
   "source": [
    "s.compress([\"a\",\"b\",\"c\"])"
   ]
  }
 ],
 "metadata": {
  "kernelspec": {
   "display_name": "Python 3",
   "language": "python",
   "name": "python3"
  },
  "language_info": {
   "codemirror_mode": {
    "name": "ipython",
    "version": 3
   },
   "file_extension": ".py",
   "mimetype": "text/x-python",
   "name": "python",
   "nbconvert_exporter": "python",
   "pygments_lexer": "ipython3",
   "version": "3.5.2"
  }
 },
 "nbformat": 4,
 "nbformat_minor": 0
}
