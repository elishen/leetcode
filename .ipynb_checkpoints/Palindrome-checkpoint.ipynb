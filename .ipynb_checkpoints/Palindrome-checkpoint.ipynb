{
 "cells": [
  {
   "cell_type": "code",
   "execution_count": 18,
   "metadata": {
    "collapsed": false
   },
   "outputs": [
    {
     "data": {
      "text/plain": [
       "True"
      ]
     },
     "execution_count": 18,
     "metadata": {},
     "output_type": "execute_result"
    }
   ],
   "source": [
    "class Solution:\n",
    "    def isPalindrome(self, x):\n",
    "        \"\"\"\n",
    "        :type x: int\n",
    "        :rtype: bool\n",
    "        \"\"\"\n",
    "        \n",
    "        if x < 0:\n",
    "            return False\n",
    "        \n",
    "        left = x\n",
    "        right = 0\n",
    "        \n",
    "        while left != 0:\n",
    "            left, r = divmod(left, 10)\n",
    "            right *= 10\n",
    "            right += r\n",
    "        \n",
    "        if x == right:\n",
    "            return True\n",
    "        \n",
    "        return False\n",
    "            \n",
    "s = Solution()\n",
    "\n",
    "s.isPalindrome(1)"
   ]
  }
 ],
 "metadata": {
  "kernelspec": {
   "display_name": "Python 3",
   "language": "python",
   "name": "python3"
  },
  "language_info": {
   "codemirror_mode": {
    "name": "ipython",
    "version": 3
   },
   "file_extension": ".py",
   "mimetype": "text/x-python",
   "name": "python",
   "nbconvert_exporter": "python",
   "pygments_lexer": "ipython3",
   "version": "3.5.2"
  }
 },
 "nbformat": 4,
 "nbformat_minor": 0
}
