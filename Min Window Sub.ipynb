{
 "cells": [
  {
   "cell_type": "code",
   "execution_count": 9,
   "metadata": {
    "collapsed": false
   },
   "outputs": [
    {
     "data": {
      "text/plain": [
       "[5, 4, 3]"
      ]
     },
     "execution_count": 9,
     "metadata": {},
     "output_type": "execute_result"
    }
   ],
   "source": [
    "lst = [1, 2, 3, 4, 5, 6]\n"
   ]
  },
  {
   "cell_type": "code",
   "execution_count": 23,
   "metadata": {
    "collapsed": false
   },
   "outputs": [
    {
     "data": {
      "text/plain": [
       "'tmogouhivogjuriyfwushmnyqcrdkkfkrhfieaujweckpjjtzlitjhghukqllqttszuzrnwyafumimkiljsatlklrwwdbxcaunklenvcbgq'"
      ]
     },
     "execution_count": 23,
     "metadata": {},
     "output_type": "execute_result"
    }
   ],
   "source": [
    "class Solution:\n",
    "    \n",
    "    def submin(self, S, T, bgn):\n",
    "        \"\"\"\n",
    "        :type S: str\n",
    "        :type T: str\n",
    "        :rtype: str\n",
    "        \"\"\"\n",
    "        ns = len(S)\n",
    "        nt = len(T)\n",
    "        idx_bgn = -1\n",
    "        idx = bgn\n",
    "        i = 0\n",
    "        while idx < ns and i < nt:\n",
    "            idx = S.find(T[i], idx)\n",
    "            if idx_bgn < 0: idx_bgn = idx\n",
    "                \n",
    "#             print(T[i], S[idx], idx)\n",
    "            if idx < 0:\n",
    "                return -1, -1\n",
    "            idx += 1\n",
    "            i += 1\n",
    "            \n",
    "#         print(idx_bgn, idx)\n",
    "        return idx_bgn, idx\n",
    "    \n",
    "    def minWindow(self, S, T):\n",
    "        \"\"\"\n",
    "        :type S: str\n",
    "        :type T: str\n",
    "        :rtype: str\n",
    "        \"\"\"\n",
    "        left, right = self.submin(S, T, 0)\n",
    "        ns = len(S)\n",
    "        leftnew = left\n",
    "        while leftnew >= 0 and leftnew < ns:\n",
    "            leftnew, rightnew = self.submin(S, T, leftnew+1)\n",
    "#             print(leftnew, rightnew)\n",
    "            if leftnew >= 0 and rightnew - leftnew < right - left:\n",
    "                left, right = leftnew, rightnew\n",
    "    \n",
    "        return \"\".join(S[left:right])\n",
    "                       \n",
    "s = Solution()\n",
    "\n",
    "            \n",
    "# s.minWindow(\"abcdebdde\", \"bde\") \n",
    "\n",
    "# s.minWindow(\"jmeqksfrsdcmsiwvaovztaqenprpvnbstl\", \"k\") \n",
    "# s.minWindow(\"psrhgogezyfrwfrejytjkzvgpjnqi\", \"loi\")\n",
    "\n",
    "# s.minWindow(\"cnhczmccqouqadqtmjjzl\", \"cm\")\n",
    "\n",
    "s.minWindow(\n",
    "    \"iibazqymhssjxnaurfsddydbwftetatwyosdcnnujzjzbpdeozpwpaixxghuyrlwrxdsyvpgoycuumxtryrqpgfmgyodbvtmybzkaqoobecgosekwvcy\" \\\n",
    "    \"yfzuaiweqjnwfssjmbrcfkppdclmqpayziyzwhktkxlmhjgjjrkdvfseatybsltvlsklnxxywzcgvvqxrnkkccfvbwpjfnpqrkfqgoajiksmtmogouhi\" \\\n",
    "    \"vogjuriyfwushmnyqcrdkkfkrhfieaujweckpjjtzlitjhghukqllqttszuzrnwyafumimkiljsatlklrwwdbxcaunklenvcbgq\"\n",
    "    ,\"tnuciwlqli\")\n"
   ]
  },
  {
   "cell_type": "code",
   "execution_count": 25,
   "metadata": {
    "collapsed": false
   },
   "outputs": [
    {
     "ename": "TypeError",
     "evalue": "unorderable types: NoneType() >= int()",
     "output_type": "error",
     "traceback": [
      "\u001b[0;31m---------------------------------------------------------------------------\u001b[0m",
      "\u001b[0;31mTypeError\u001b[0m                                 Traceback (most recent call last)",
      "\u001b[0;32m<ipython-input-25-858fb21a1b62>\u001b[0m in \u001b[0;36m<module>\u001b[0;34m()\u001b[0m\n\u001b[1;32m     22\u001b[0m     \u001b[0;34m\"yfzuaiweqjnwfssjmbrcfkppdclmqpayziyzwhktkxlmhjgjjrkdvfseatybsltvlsklnxxywzcgvvqxrnkkccfvbwpjfnpqrkfqgoajiksmtmogouhi\"\u001b[0m\u001b[0;31m \u001b[0m\u001b[0;31m\\\u001b[0m\u001b[0;34m\u001b[0m\u001b[0m\n\u001b[1;32m     23\u001b[0m     \u001b[0;34m\"vogjuriyfwushmnyqcrdkkfkrhfieaujweckpjjtzlitjhghukqllqttszuzrnwyafumimkiljsatlklrwwdbxcaunklenvcbgq\"\u001b[0m\u001b[0;34m\u001b[0m\u001b[0m\n\u001b[0;32m---> 24\u001b[0;31m     ,\"tnuciwlqli\")\n\u001b[0m",
      "\u001b[0;32m<ipython-input-25-858fb21a1b62>\u001b[0m in \u001b[0;36mminWindow\u001b[0;34m(self, S, T)\u001b[0m\n\u001b[1;32m     13\u001b[0m         \u001b[0mans\u001b[0m \u001b[0;34m=\u001b[0m \u001b[0;36m0\u001b[0m\u001b[0;34m,\u001b[0m \u001b[0mlen\u001b[0m\u001b[0;34m(\u001b[0m\u001b[0mS\u001b[0m\u001b[0;34m)\u001b[0m\u001b[0;34m\u001b[0m\u001b[0m\n\u001b[1;32m     14\u001b[0m         \u001b[0;32mfor\u001b[0m \u001b[0me\u001b[0m\u001b[0;34m,\u001b[0m \u001b[0ms\u001b[0m \u001b[0;32min\u001b[0m \u001b[0menumerate\u001b[0m\u001b[0;34m(\u001b[0m\u001b[0mcur\u001b[0m\u001b[0;34m)\u001b[0m\u001b[0;34m:\u001b[0m\u001b[0;34m\u001b[0m\u001b[0m\n\u001b[0;32m---> 15\u001b[0;31m             \u001b[0;32mif\u001b[0m \u001b[0ms\u001b[0m \u001b[0;34m>=\u001b[0m \u001b[0;36m0\u001b[0m \u001b[0;32mand\u001b[0m \u001b[0me\u001b[0m \u001b[0;34m-\u001b[0m \u001b[0ms\u001b[0m \u001b[0;34m<\u001b[0m \u001b[0mans\u001b[0m\u001b[0;34m[\u001b[0m\u001b[0;36m1\u001b[0m\u001b[0;34m]\u001b[0m \u001b[0;34m-\u001b[0m \u001b[0mans\u001b[0m\u001b[0;34m[\u001b[0m\u001b[0;36m0\u001b[0m\u001b[0;34m]\u001b[0m\u001b[0;34m:\u001b[0m\u001b[0;34m\u001b[0m\u001b[0m\n\u001b[0m\u001b[1;32m     16\u001b[0m                 \u001b[0mans\u001b[0m \u001b[0;34m=\u001b[0m \u001b[0ms\u001b[0m\u001b[0;34m,\u001b[0m \u001b[0me\u001b[0m\u001b[0;34m\u001b[0m\u001b[0m\n\u001b[1;32m     17\u001b[0m         \u001b[0;32mreturn\u001b[0m \u001b[0mS\u001b[0m\u001b[0;34m[\u001b[0m\u001b[0mans\u001b[0m\u001b[0;34m[\u001b[0m\u001b[0;36m0\u001b[0m\u001b[0;34m]\u001b[0m\u001b[0;34m:\u001b[0m \u001b[0mans\u001b[0m\u001b[0;34m[\u001b[0m\u001b[0;36m1\u001b[0m\u001b[0;34m]\u001b[0m\u001b[0;34m+\u001b[0m\u001b[0;36m1\u001b[0m\u001b[0;34m]\u001b[0m \u001b[0;32mif\u001b[0m \u001b[0mans\u001b[0m\u001b[0;34m[\u001b[0m\u001b[0;36m1\u001b[0m\u001b[0;34m]\u001b[0m \u001b[0;34m<\u001b[0m \u001b[0mlen\u001b[0m\u001b[0;34m(\u001b[0m\u001b[0mS\u001b[0m\u001b[0;34m)\u001b[0m \u001b[0;32melse\u001b[0m \u001b[0;34m\"\"\u001b[0m\u001b[0;34m\u001b[0m\u001b[0m\n",
      "\u001b[0;31mTypeError\u001b[0m: unorderable types: NoneType() >= int()"
     ]
    }
   ],
   "source": [
    "class Solution(object):\n",
    "    def minWindow(self, S, T):\n",
    "        cur = [i if x == T[0] else None\n",
    "               for i, x in enumerate(S)]\n",
    "        for j in range(1, len(T)):\n",
    "            last = None\n",
    "            new = [None] * len(S)\n",
    "            for i, u in enumerate(S):\n",
    "                if last is not None and u == T[j]: new[i] = last\n",
    "                if cur[i] is not None: last = cur[i]\n",
    "            cur = new\n",
    "\n",
    "        ans = 0, len(S)\n",
    "        for e, s in enumerate(cur):\n",
    "            if s >= 0 and e - s < ans[1] - ans[0]:\n",
    "                ans = s, e\n",
    "        return S[ans[0]: ans[1]+1] if ans[1] < len(S) else \"\"\n",
    "    \n",
    "s = Solution()\n",
    "s.minWindow(\n",
    "    \"iibazqymhssjxnaurfsddydbwftetatwyosdcnnujzjzbpdeozpwpaixxghuyrlwrxdsyvpgoycuumxtryrqpgfmgyodbvtmybzkaqoobecgosekwvcy\" \\\n",
    "    \"yfzuaiweqjnwfssjmbrcfkppdclmqpayziyzwhktkxlmhjgjjrkdvfseatybsltvlsklnxxywzcgvvqxrnkkccfvbwpjfnpqrkfqgoajiksmtmogouhi\" \\\n",
    "    \"vogjuriyfwushmnyqcrdkkfkrhfieaujweckpjjtzlitjhghukqllqttszuzrnwyafumimkiljsatlklrwwdbxcaunklenvcbgq\"\n",
    "    ,\"tnuciwlqli\")"
   ]
  }
 ],
 "metadata": {
  "kernelspec": {
   "display_name": "Python 3",
   "language": "python",
   "name": "python3"
  },
  "language_info": {
   "codemirror_mode": {
    "name": "ipython",
    "version": 3
   },
   "file_extension": ".py",
   "mimetype": "text/x-python",
   "name": "python",
   "nbconvert_exporter": "python",
   "pygments_lexer": "ipython3",
   "version": "3.5.2"
  }
 },
 "nbformat": 4,
 "nbformat_minor": 0
}
