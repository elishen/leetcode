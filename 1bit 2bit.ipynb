{
 "cells": [
  {
   "cell_type": "code",
   "execution_count": 4,
   "metadata": {
    "collapsed": false
   },
   "outputs": [
    {
     "data": {
      "text/plain": [
       "False"
      ]
     },
     "execution_count": 4,
     "metadata": {},
     "output_type": "execute_result"
    }
   ],
   "source": [
    "class Solution:\n",
    "    def isOneBitCharacter(self, bits):\n",
    "        \"\"\"\n",
    "        :type bits: List[int]\n",
    "        :rtype: bool\n",
    "        \"\"\"\n",
    "        \n",
    "        def valid(lst):\n",
    "            if not lst:\n",
    "                return True\n",
    "            if len(lst) == 1:\n",
    "                return lst[0] == 0\n",
    "            return (lst[-2] == 1 and valid(lst[0:-2])) or (lst[-1] == 0 and valid(lst[0:-1]))\n",
    "        \n",
    "        return (\n",
    "            bits\n",
    "        and bits[-1] == 0\n",
    "        and valid(bits[0:-1])\n",
    "        )\n",
    "            \n",
    "        \n",
    "                \n",
    "s=Solution()\n",
    "\n",
    "s.isOneBitCharacter([1, 1, 1, 0])"
   ]
  }
 ],
 "metadata": {
  "kernelspec": {
   "display_name": "Python 3",
   "language": "python",
   "name": "python3"
  },
  "language_info": {
   "codemirror_mode": {
    "name": "ipython",
    "version": 3
   },
   "file_extension": ".py",
   "mimetype": "text/x-python",
   "name": "python",
   "nbconvert_exporter": "python",
   "pygments_lexer": "ipython3",
   "version": "3.5.2"
  }
 },
 "nbformat": 4,
 "nbformat_minor": 0
}
