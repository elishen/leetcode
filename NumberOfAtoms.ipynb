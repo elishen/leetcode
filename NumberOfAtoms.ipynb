{
 "cells": [
  {
   "cell_type": "code",
   "execution_count": 5,
   "metadata": {
    "collapsed": true
   },
   "outputs": [],
   "source": [
    "import collections"
   ]
  },
  {
   "cell_type": "code",
   "execution_count": 23,
   "metadata": {
    "collapsed": false
   },
   "outputs": [
    {
     "data": {
      "text/plain": [
       "'K4N2O14S4'"
      ]
     },
     "execution_count": 23,
     "metadata": {},
     "output_type": "execute_result"
    }
   ],
   "source": [
    "def print_counter(top):\n",
    "    print(\"\".join([k+(str(top[k]) if top[k] > 1 else \"\") \n",
    "                    for k in sorted(top)]) \n",
    "    )\n",
    "\n",
    "        \n",
    "class Solution:\n",
    "        \n",
    "    def countOfAtoms(self, formula):\n",
    "        \"\"\"\n",
    "        :type formula: str\n",
    "        :rtype: str\n",
    "        \"\"\"\n",
    "        n = len(formula)\n",
    "        stack = [collections.Counter()]\n",
    "        i = 0\n",
    "        while i < n:\n",
    "            if formula[i] == '(':\n",
    "                stack.append(collections.Counter())\n",
    "                i += 1\n",
    "            elif formula[i] == ')':\n",
    "                top = stack.pop()\n",
    "                i += 1\n",
    "                i_bgn = i\n",
    "                while i < n and formula[i].isdigit(): i += 1\n",
    "                factor = int(formula[i_bgn:i] or 1)\n",
    "                for name, v in top.items():\n",
    "                    stack[-1][name] += v * factor\n",
    "            else:\n",
    "                i_bgn = i\n",
    "                i += 1\n",
    "                while i < n and formula[i].islower(): i += 1\n",
    "                name = formula[i_bgn:i]\n",
    "#                 print(name)\n",
    "                i_bgn = i\n",
    "                while i < n and formula[i].isdigit(): i += 1\n",
    "                v = int(formula[i_bgn:i] or 1)\n",
    "#                 print(v)\n",
    "                stack[-1][name] += v\n",
    "                    \n",
    "        top = stack[0]\n",
    "        return \"\".join([k+(str(top[k]) if top[k] > 1 else \"\") \n",
    "                        for k in sorted(top)]) \n",
    "        \n",
    "        \n",
    "sol = Solution()\n",
    "\n",
    "lst1 = \"H2OH2O\"\n",
    "lst1 = 'K4(ON(SO3)2)2'\n",
    "sol.countOfAtoms(lst1)\n",
    "        "
   ]
  },
  {
   "cell_type": "code",
   "execution_count": 7,
   "metadata": {
    "collapsed": false
   },
   "outputs": [
    {
     "data": {
      "text/plain": [
       "3"
      ]
     },
     "execution_count": 7,
     "metadata": {},
     "output_type": "execute_result"
    }
   ],
   "source": [
    "\"K4N2O14S4\""
   ]
  }
 ],
 "metadata": {
  "kernelspec": {
   "display_name": "Python 3",
   "language": "python",
   "name": "python3"
  },
  "language_info": {
   "codemirror_mode": {
    "name": "ipython",
    "version": 3
   },
   "file_extension": ".py",
   "mimetype": "text/x-python",
   "name": "python",
   "nbconvert_exporter": "python",
   "pygments_lexer": "ipython3",
   "version": "3.5.2"
  }
 },
 "nbformat": 4,
 "nbformat_minor": 0
}
